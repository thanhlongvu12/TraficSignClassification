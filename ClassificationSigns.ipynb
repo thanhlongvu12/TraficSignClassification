{
 "cells": [
  {
   "cell_type": "code",
   "execution_count": 2,
   "id": "f59f3fc9",
   "metadata": {},
   "outputs": [
    {
     "name": "stdout",
     "output_type": "stream",
     "text": [
      "Collecting tensorflow\n",
      "  Using cached tensorflow-2.11.0-cp39-cp39-win_amd64.whl (1.9 kB)\n",
      "Collecting tensorflow-intel==2.11.0\n",
      "  Using cached tensorflow_intel-2.11.0-cp39-cp39-win_amd64.whl (266.3 MB)\n",
      "Collecting tensorflow-io-gcs-filesystem>=0.23.1\n",
      "  Using cached tensorflow_io_gcs_filesystem-0.27.0-cp39-cp39-win_amd64.whl (1.5 MB)\n",
      "Requirement already satisfied: numpy>=1.20 in d:\\anaconda\\lib\\site-packages (from tensorflow-intel==2.11.0->tensorflow) (1.21.5)\n",
      "Collecting termcolor>=1.1.0\n",
      "  Using cached termcolor-2.1.1-py3-none-any.whl (6.2 kB)\n",
      "Collecting flatbuffers>=2.0\n",
      "  Using cached flatbuffers-22.10.26-py2.py3-none-any.whl (26 kB)\n",
      "Requirement already satisfied: h5py>=2.9.0 in d:\\anaconda\\lib\\site-packages (from tensorflow-intel==2.11.0->tensorflow) (3.7.0)\n",
      "Requirement already satisfied: packaging in d:\\anaconda\\lib\\site-packages (from tensorflow-intel==2.11.0->tensorflow) (21.3)\n",
      "Requirement already satisfied: setuptools in d:\\anaconda\\lib\\site-packages (from tensorflow-intel==2.11.0->tensorflow) (63.4.1)\n",
      "Collecting tensorboard<2.12,>=2.11\n",
      "  Using cached tensorboard-2.11.0-py3-none-any.whl (6.0 MB)\n",
      "Collecting astunparse>=1.6.0\n",
      "  Using cached astunparse-1.6.3-py2.py3-none-any.whl (12 kB)\n",
      "Collecting gast<=0.4.0,>=0.2.1\n",
      "  Using cached gast-0.4.0-py3-none-any.whl (9.8 kB)\n",
      "Requirement already satisfied: six>=1.12.0 in d:\\anaconda\\lib\\site-packages (from tensorflow-intel==2.11.0->tensorflow) (1.16.0)\n",
      "Collecting tensorflow-estimator<2.12,>=2.11.0\n",
      "  Using cached tensorflow_estimator-2.11.0-py2.py3-none-any.whl (439 kB)\n",
      "Collecting grpcio<2.0,>=1.24.3\n",
      "  Using cached grpcio-1.50.0-cp39-cp39-win_amd64.whl (3.7 MB)\n",
      "Collecting libclang>=13.0.0\n",
      "  Using cached libclang-14.0.6-py2.py3-none-win_amd64.whl (14.2 MB)\n",
      "Collecting keras<2.12,>=2.11.0\n",
      "  Using cached keras-2.11.0-py2.py3-none-any.whl (1.7 MB)\n",
      "Requirement already satisfied: typing-extensions>=3.6.6 in d:\\anaconda\\lib\\site-packages (from tensorflow-intel==2.11.0->tensorflow) (4.3.0)\n",
      "Collecting absl-py>=1.0.0\n",
      "  Using cached absl_py-1.3.0-py3-none-any.whl (124 kB)\n",
      "Collecting opt-einsum>=2.3.2\n",
      "  Using cached opt_einsum-3.3.0-py3-none-any.whl (65 kB)\n",
      "Requirement already satisfied: wrapt>=1.11.0 in d:\\anaconda\\lib\\site-packages (from tensorflow-intel==2.11.0->tensorflow) (1.14.1)\n",
      "Collecting google-pasta>=0.1.1\n",
      "  Using cached google_pasta-0.2.0-py3-none-any.whl (57 kB)\n",
      "Collecting protobuf<3.20,>=3.9.2\n",
      "  Using cached protobuf-3.19.6-cp39-cp39-win_amd64.whl (895 kB)\n",
      "Requirement already satisfied: wheel<1.0,>=0.23.0 in d:\\anaconda\\lib\\site-packages (from astunparse>=1.6.0->tensorflow-intel==2.11.0->tensorflow) (0.37.1)\n",
      "Collecting tensorboard-plugin-wit>=1.6.0\n",
      "  Using cached tensorboard_plugin_wit-1.8.1-py3-none-any.whl (781 kB)\n",
      "Collecting google-auth<3,>=1.6.3\n",
      "  Using cached google_auth-2.14.1-py2.py3-none-any.whl (175 kB)\n",
      "Collecting google-auth-oauthlib<0.5,>=0.4.1\n",
      "  Using cached google_auth_oauthlib-0.4.6-py2.py3-none-any.whl (18 kB)\n",
      "Requirement already satisfied: requests<3,>=2.21.0 in d:\\anaconda\\lib\\site-packages (from tensorboard<2.12,>=2.11->tensorflow-intel==2.11.0->tensorflow) (2.28.1)\n",
      "Requirement already satisfied: markdown>=2.6.8 in d:\\anaconda\\lib\\site-packages (from tensorboard<2.12,>=2.11->tensorflow-intel==2.11.0->tensorflow) (3.3.4)\n",
      "Collecting tensorboard-data-server<0.7.0,>=0.6.0\n",
      "  Using cached tensorboard_data_server-0.6.1-py3-none-any.whl (2.4 kB)\n",
      "Requirement already satisfied: werkzeug>=1.0.1 in d:\\anaconda\\lib\\site-packages (from tensorboard<2.12,>=2.11->tensorflow-intel==2.11.0->tensorflow) (2.0.3)\n",
      "Requirement already satisfied: pyparsing!=3.0.5,>=2.0.2 in d:\\anaconda\\lib\\site-packages (from packaging->tensorflow-intel==2.11.0->tensorflow) (3.0.9)\n",
      "Requirement already satisfied: pyasn1-modules>=0.2.1 in d:\\anaconda\\lib\\site-packages (from google-auth<3,>=1.6.3->tensorboard<2.12,>=2.11->tensorflow-intel==2.11.0->tensorflow) (0.2.8)\n",
      "Collecting cachetools<6.0,>=2.0.0\n",
      "  Using cached cachetools-5.2.0-py3-none-any.whl (9.3 kB)\n",
      "Collecting rsa<5,>=3.1.4\n",
      "  Using cached rsa-4.9-py3-none-any.whl (34 kB)\n",
      "Collecting requests-oauthlib>=0.7.0\n",
      "  Using cached requests_oauthlib-1.3.1-py2.py3-none-any.whl (23 kB)\n",
      "Requirement already satisfied: certifi>=2017.4.17 in d:\\anaconda\\lib\\site-packages (from requests<3,>=2.21.0->tensorboard<2.12,>=2.11->tensorflow-intel==2.11.0->tensorflow) (2022.9.14)\n",
      "Requirement already satisfied: idna<4,>=2.5 in d:\\anaconda\\lib\\site-packages (from requests<3,>=2.21.0->tensorboard<2.12,>=2.11->tensorflow-intel==2.11.0->tensorflow) (3.3)\n",
      "Requirement already satisfied: urllib3<1.27,>=1.21.1 in d:\\anaconda\\lib\\site-packages (from requests<3,>=2.21.0->tensorboard<2.12,>=2.11->tensorflow-intel==2.11.0->tensorflow) (1.26.11)\n",
      "Requirement already satisfied: charset-normalizer<3,>=2 in d:\\anaconda\\lib\\site-packages (from requests<3,>=2.21.0->tensorboard<2.12,>=2.11->tensorflow-intel==2.11.0->tensorflow) (2.0.4)\n",
      "Requirement already satisfied: pyasn1<0.5.0,>=0.4.6 in d:\\anaconda\\lib\\site-packages (from pyasn1-modules>=0.2.1->google-auth<3,>=1.6.3->tensorboard<2.12,>=2.11->tensorflow-intel==2.11.0->tensorflow) (0.4.8)\n",
      "Collecting oauthlib>=3.0.0\n",
      "  Using cached oauthlib-3.2.2-py3-none-any.whl (151 kB)\n",
      "Installing collected packages: tensorboard-plugin-wit, libclang, flatbuffers, termcolor, tensorflow-io-gcs-filesystem, tensorflow-estimator, tensorboard-data-server, rsa, protobuf, opt-einsum, oauthlib, keras, grpcio, google-pasta, gast, cachetools, astunparse, absl-py, requests-oauthlib, google-auth, google-auth-oauthlib, tensorboard, tensorflow-intel, tensorflow\n",
      "Successfully installed absl-py-1.3.0 astunparse-1.6.3 cachetools-5.2.0 flatbuffers-22.10.26 gast-0.4.0 google-auth-2.14.1 google-auth-oauthlib-0.4.6 google-pasta-0.2.0 grpcio-1.50.0 keras-2.11.0 libclang-14.0.6 oauthlib-3.2.2 opt-einsum-3.3.0 protobuf-3.19.6 requests-oauthlib-1.3.1 rsa-4.9 tensorboard-2.11.0 tensorboard-data-server-0.6.1 tensorboard-plugin-wit-1.8.1 tensorflow-2.11.0 tensorflow-estimator-2.11.0 tensorflow-intel-2.11.0 tensorflow-io-gcs-filesystem-0.27.0 termcolor-2.1.1\n",
      "Note: you may need to restart the kernel to use updated packages.\n"
     ]
    }
   ],
   "source": [
    "pip install tensorflow"
   ]
  },
  {
   "cell_type": "code",
   "execution_count": 6,
   "id": "6413e120",
   "metadata": {},
   "outputs": [
    {
     "name": "stdout",
     "output_type": "stream",
     "text": [
      "Collecting opencv-python\n",
      "  Using cached opencv_python-4.6.0.66-cp36-abi3-win_amd64.whl (35.6 MB)\n",
      "Requirement already satisfied: numpy>=1.17.3 in d:\\anaconda\\lib\\site-packages (from opencv-python) (1.21.5)\n",
      "Installing collected packages: opencv-python\n",
      "Successfully installed opencv-python-4.6.0.66\n",
      "Note: you may need to restart the kernel to use updated packages.\n"
     ]
    }
   ],
   "source": [
    "pip install opencv-python"
   ]
  },
  {
   "cell_type": "code",
   "execution_count": 3,
   "id": "30a098b6",
   "metadata": {},
   "outputs": [],
   "source": [
    "import numpy as np \n",
    "import pandas as pd \n",
    "import tensorflow as tf\n",
    "import os\n",
    "\n",
    "import cv2\n",
    "from PIL import Image\n",
    "\n",
    "from sklearn import metrics \n",
    "from sklearn.metrics import f1_score, accuracy_score,confusion_matrix,classification_report\n",
    "import matplotlib.pyplot as plt\n",
    "import seaborn as sns\n",
    "%matplotlib inline\n",
    "\n",
    "from sklearn.model_selection import train_test_split\n",
    "from tensorflow.keras.utils import to_categorical\n",
    "from tensorflow.keras.models import Sequential, load_model, Model\n",
    "from tensorflow.keras.layers import Conv2D, MaxPool2D, Dense, Flatten, Dropout, Input\n"
   ]
  },
  {
   "cell_type": "code",
   "execution_count": null,
   "id": "6e69e742",
   "metadata": {},
   "outputs": [],
   "source": []
  },
  {
   "cell_type": "code",
   "execution_count": 4,
   "id": "3d0f6c85",
   "metadata": {},
   "outputs": [],
   "source": [
    "data = []\n",
    "labels = []\n",
    "classes = 43\n",
    "cur_path = os.getcwd()\n",
    "\n",
    "for i in range(classes):\n",
    "    path = os.path.join('./datasets','train',str(i))\n",
    "    images = os.listdir(path)\n",
    "\n",
    "    for a in images:\n",
    "        try:\n",
    "            image = Image.open(path + '/'+ a)\n",
    "            image = image.resize((30,30))\n",
    "            image = np.array(image)\n",
    "            data.append(image)\n",
    "            labels.append(i)\n",
    "        except:\n",
    "            print(\"khong doc duoc du lieu\")\n",
    "\n",
    "data = np.array(data)\n",
    "labels = np.array(labels)\n"
   ]
  },
  {
   "cell_type": "code",
   "execution_count": 3,
   "id": "0bbf1917",
   "metadata": {},
   "outputs": [
    {
     "name": "stdout",
     "output_type": "stream",
     "text": [
      "(39209, 30, 30, 3) (39209,)\n"
     ]
    }
   ],
   "source": [
    "print(data.shape, labels.shape)"
   ]
  },
  {
   "cell_type": "code",
   "execution_count": 4,
   "id": "c65a7760",
   "metadata": {},
   "outputs": [],
   "source": [
    "X_train, X_test, y_train, y_test = train_test_split(data, labels, test_size=0.2, random_state=42)"
   ]
  },
  {
   "cell_type": "code",
   "execution_count": 5,
   "id": "d7f990db",
   "metadata": {},
   "outputs": [
    {
     "name": "stdout",
     "output_type": "stream",
     "text": [
      "(31367, 30, 30, 3) (31367,)\n",
      "(7842, 30, 30, 3) (7842,)\n"
     ]
    }
   ],
   "source": [
    "print(X_train.shape, y_train.shape)\n",
    "print(X_test.shape, y_test.shape)"
   ]
  },
  {
   "cell_type": "code",
   "execution_count": 6,
   "id": "e397fd27",
   "metadata": {},
   "outputs": [],
   "source": [
    "y_train_new = to_categorical(y_train)\n",
    "y_test_new = to_categorical(y_test)"
   ]
  },
  {
   "cell_type": "code",
   "execution_count": 7,
   "id": "cb0043f3",
   "metadata": {},
   "outputs": [
    {
     "name": "stdout",
     "output_type": "stream",
     "text": [
      "2\n",
      "[0. 0. 1. 0. 0. 0. 0. 0. 0. 0. 0. 0. 0. 0. 0. 0. 0. 0. 0. 0. 0. 0. 0. 0.\n",
      " 0. 0. 0. 0. 0. 0. 0. 0. 0. 0. 0. 0. 0. 0. 0. 0. 0. 0. 0.]\n"
     ]
    }
   ],
   "source": [
    "print(y_train[2])\n",
    "print(y_train_new[2])"
   ]
  },
  {
   "cell_type": "code",
   "execution_count": 8,
   "id": "ad1bfda6",
   "metadata": {},
   "outputs": [
    {
     "name": "stdout",
     "output_type": "stream",
     "text": [
      "Model: \"sequential\"\n",
      "_________________________________________________________________\n",
      " Layer (type)                Output Shape              Param #   \n",
      "=================================================================\n",
      " conv2d (Conv2D)             (None, 26, 26, 32)        2432      \n",
      "                                                                 \n",
      " conv2d_1 (Conv2D)           (None, 22, 22, 32)        25632     \n",
      "                                                                 \n",
      " max_pooling2d (MaxPooling2D  (None, 11, 11, 32)       0         \n",
      " )                                                               \n",
      "                                                                 \n",
      " dropout (Dropout)           (None, 11, 11, 32)        0         \n",
      "                                                                 \n",
      " conv2d_2 (Conv2D)           (None, 9, 9, 64)          18496     \n",
      "                                                                 \n",
      " conv2d_3 (Conv2D)           (None, 7, 7, 64)          36928     \n",
      "                                                                 \n",
      " max_pooling2d_1 (MaxPooling  (None, 3, 3, 64)         0         \n",
      " 2D)                                                             \n",
      "                                                                 \n",
      " dropout_1 (Dropout)         (None, 3, 3, 64)          0         \n",
      "                                                                 \n",
      " flatten (Flatten)           (None, 576)               0         \n",
      "                                                                 \n",
      " dense (Dense)               (None, 256)               147712    \n",
      "                                                                 \n",
      " dropout_2 (Dropout)         (None, 256)               0         \n",
      "                                                                 \n",
      " dense_1 (Dense)             (None, 43)                11051     \n",
      "                                                                 \n",
      "=================================================================\n",
      "Total params: 242,251\n",
      "Trainable params: 242,251\n",
      "Non-trainable params: 0\n",
      "_________________________________________________________________\n"
     ]
    }
   ],
   "source": [
    "model = Sequential()\n",
    "model.add(Conv2D(filters=32, kernel_size=(5,5), activation='relu', input_shape=X_train.shape[1:]))\n",
    "model.add(Conv2D(filters=32, kernel_size=(5,5), activation='relu'))\n",
    "model.add(MaxPool2D(pool_size=(2, 2)))\n",
    "model.add(Dropout(rate=0.25))\n",
    "model.add(Conv2D(filters=64, kernel_size=(3, 3), activation='relu'))\n",
    "model.add(Conv2D(filters=64, kernel_size=(3, 3), activation='relu'))\n",
    "model.add(MaxPool2D(pool_size=(2, 2)))\n",
    "model.add(Dropout(rate=0.25))\n",
    "model.add(Flatten())\n",
    "model.add(Dense(256, activation='relu'))\n",
    "model.add(Dropout(rate=0.5))\n",
    "model.add(Dense(43, activation='softmax'))\n",
    "\n",
    "model.compile(loss='categorical_crossentropy', optimizer='adam', metrics=['accuracy'])\n",
    "\n",
    "model.summary()"
   ]
  },
  {
   "cell_type": "code",
   "execution_count": 9,
   "id": "079242ea",
   "metadata": {},
   "outputs": [
    {
     "name": "stdout",
     "output_type": "stream",
     "text": [
      "Model: \"model\"\n",
      "_________________________________________________________________\n",
      " Layer (type)                Output Shape              Param #   \n",
      "=================================================================\n",
      " input_1 (InputLayer)        [(None, 30, 30, 3)]       0         \n",
      "                                                                 \n",
      " conv2d_4 (Conv2D)           (None, 28, 28, 16)        448       \n",
      "                                                                 \n",
      " max_pooling2d_2 (MaxPooling  (None, 14, 14, 16)       0         \n",
      " 2D)                                                             \n",
      "                                                                 \n",
      " conv2d_5 (Conv2D)           (None, 12, 12, 32)        4640      \n",
      "                                                                 \n",
      " max_pooling2d_3 (MaxPooling  (None, 6, 6, 32)         0         \n",
      " 2D)                                                             \n",
      "                                                                 \n",
      " conv2d_6 (Conv2D)           (None, 4, 4, 64)          18496     \n",
      "                                                                 \n",
      " max_pooling2d_4 (MaxPooling  (None, 2, 2, 64)         0         \n",
      " 2D)                                                             \n",
      "                                                                 \n",
      " flatten_1 (Flatten)         (None, 256)               0         \n",
      "                                                                 \n",
      " dense_2 (Dense)             (None, 256)               65792     \n",
      "                                                                 \n",
      " dense_3 (Dense)             (None, 128)               32896     \n",
      "                                                                 \n",
      " dense_4 (Dense)             (None, 64)                8256      \n",
      "                                                                 \n",
      " dense_5 (Dense)             (None, 43)                2795      \n",
      "                                                                 \n",
      "=================================================================\n",
      "Total params: 133,323\n",
      "Trainable params: 133,323\n",
      "Non-trainable params: 0\n",
      "_________________________________________________________________\n"
     ]
    }
   ],
   "source": [
    "# inp= Input(shape=(30,30,3))\n",
    "# cnn = Conv2D(filters=16,kernel_size=3,activation='relu')(inp)\n",
    "# pooling=MaxPool2D(pool_size=(2,2)) (cnn)\n",
    "# cnn = Conv2D(filters=32,kernel_size=3,activation='relu')(pooling)\n",
    "# pooling=MaxPool2D(pool_size=(2,2)) (cnn)\n",
    "# cnn = Conv2D(filters=64,kernel_size=3,activation='relu')(pooling)\n",
    "# pooling=MaxPool2D(pool_size=(2,2)) (cnn)\n",
    "# # cnn = Conv2D(filters=128,kernel_size=3,activation='relu')(pooling)\n",
    "# # pooling=MaxPool2D(pool_size=(2,2)) (cnn)\n",
    "\n",
    "# f=Flatten()(pooling)\n",
    "# fc1 = Dense(units=256,activation='relu')(f)\n",
    "# fc2 = Dense(units=128,activation='relu')(fc1)\n",
    "# fc3 = Dense(units=64,activation='relu')(fc2)\n",
    "# out = Dense(units=43,activation='softmax')(fc3)\n",
    "# cnn =Model(inputs=inp,outputs=out)\n",
    "# cnn.compile(optimizer  = 'adam', loss = 'categorical_crossentropy', \n",
    "#              metrics = ['accuracy']) \n",
    "# cnn.summary()"
   ]
  },
  {
   "cell_type": "code",
   "execution_count": 10,
   "id": "e297336f",
   "metadata": {},
   "outputs": [],
   "source": [
    "X_train_scaled = X_train / 255\n",
    "X_test_scaled = X_test /255"
   ]
  },
  {
   "cell_type": "code",
   "execution_count": 11,
   "id": "58656f35",
   "metadata": {
    "scrolled": true
   },
   "outputs": [
    {
     "name": "stdout",
     "output_type": "stream",
     "text": [
      "Epoch 1/15\n",
      "981/981 [==============================] - 82s 81ms/step - loss: 1.1689 - accuracy: 0.6723 - val_loss: 0.2005 - val_accuracy: 0.9468\n",
      "Epoch 2/15\n",
      "981/981 [==============================] - 77s 79ms/step - loss: 0.2389 - accuracy: 0.9258 - val_loss: 0.0669 - val_accuracy: 0.9838\n",
      "Epoch 3/15\n",
      "981/981 [==============================] - 83s 85ms/step - loss: 0.1503 - accuracy: 0.9534 - val_loss: 0.0444 - val_accuracy: 0.9879\n",
      "Epoch 4/15\n",
      "981/981 [==============================] - 80s 81ms/step - loss: 0.1113 - accuracy: 0.9656 - val_loss: 0.0373 - val_accuracy: 0.9921\n",
      "Epoch 5/15\n",
      "981/981 [==============================] - 74s 76ms/step - loss: 0.1008 - accuracy: 0.9709 - val_loss: 0.0276 - val_accuracy: 0.9925\n",
      "Epoch 6/15\n",
      "981/981 [==============================] - 73s 74ms/step - loss: 0.0793 - accuracy: 0.9753 - val_loss: 0.0295 - val_accuracy: 0.9925\n",
      "Epoch 7/15\n",
      "981/981 [==============================] - 73s 75ms/step - loss: 0.0745 - accuracy: 0.9782 - val_loss: 0.0212 - val_accuracy: 0.9946\n",
      "Epoch 8/15\n",
      "981/981 [==============================] - 78s 80ms/step - loss: 0.0647 - accuracy: 0.9809 - val_loss: 0.0195 - val_accuracy: 0.9953\n",
      "Epoch 9/15\n",
      "981/981 [==============================] - 77s 78ms/step - loss: 0.0642 - accuracy: 0.9821 - val_loss: 0.0273 - val_accuracy: 0.9936\n",
      "Epoch 10/15\n",
      "981/981 [==============================] - 74s 76ms/step - loss: 0.0647 - accuracy: 0.9813 - val_loss: 0.0241 - val_accuracy: 0.9952\n",
      "Epoch 11/15\n",
      "981/981 [==============================] - 74s 75ms/step - loss: 0.0546 - accuracy: 0.9841 - val_loss: 0.0219 - val_accuracy: 0.9952\n",
      "Epoch 12/15\n",
      "981/981 [==============================] - 74s 75ms/step - loss: 0.0539 - accuracy: 0.9844 - val_loss: 0.0282 - val_accuracy: 0.9922\n",
      "Epoch 13/15\n",
      "981/981 [==============================] - 74s 75ms/step - loss: 0.0536 - accuracy: 0.9846 - val_loss: 0.0256 - val_accuracy: 0.9943\n",
      "Epoch 14/15\n",
      "981/981 [==============================] - 73s 74ms/step - loss: 0.0483 - accuracy: 0.9861 - val_loss: 0.0200 - val_accuracy: 0.9958\n",
      "Epoch 15/15\n",
      "981/981 [==============================] - 74s 75ms/step - loss: 0.0464 - accuracy: 0.9865 - val_loss: 0.0221 - val_accuracy: 0.9958\n"
     ]
    }
   ],
   "source": [
    "history_model = model.fit(X_train_scaled, y_train_new, batch_size=32, epochs = 15,\n",
    "                              validation_data=(X_test_scaled, y_test_new))"
   ]
  },
  {
   "cell_type": "code",
   "execution_count": 12,
   "id": "44c87eb3",
   "metadata": {},
   "outputs": [
    {
     "name": "stdout",
     "output_type": "stream",
     "text": [
      "246/246 [==============================] - 4s 15ms/step\n"
     ]
    }
   ],
   "source": [
    "y_pred = model.predict(X_test_scaled)"
   ]
  },
  {
   "cell_type": "code",
   "execution_count": 17,
   "id": "e21f6096",
   "metadata": {},
   "outputs": [
    {
     "name": "stdout",
     "output_type": "stream",
     "text": [
      "15\n",
      "15\n"
     ]
    }
   ],
   "source": [
    "print(y_test[4])\n",
    "print(np.argmax(y_pred[4]))"
   ]
  },
  {
   "cell_type": "code",
   "execution_count": 23,
   "id": "33d64b6c",
   "metadata": {},
   "outputs": [],
   "source": [
    "y_predd = []\n",
    "for i in y_pred:\n",
    "    y_predd.append(np.argmax(i))"
   ]
  },
  {
   "cell_type": "code",
   "execution_count": 24,
   "id": "2afccb25",
   "metadata": {},
   "outputs": [],
   "source": [
    "def check(index):\n",
    "    print(y_test[index], y_predd[index])"
   ]
  },
  {
   "cell_type": "code",
   "execution_count": 25,
   "id": "06e428c9",
   "metadata": {},
   "outputs": [
    {
     "name": "stdout",
     "output_type": "stream",
     "text": [
      "15 15\n"
     ]
    }
   ],
   "source": [
    "check(1)"
   ]
  },
  {
   "cell_type": "code",
   "execution_count": 26,
   "id": "8a03a775",
   "metadata": {},
   "outputs": [
    {
     "name": "stdout",
     "output_type": "stream",
     "text": [
      "              precision    recall  f1-score   support\n",
      "\n",
      "           0       1.00      0.97      0.99        38\n",
      "           1       1.00      0.99      0.99       496\n",
      "           2       1.00      1.00      1.00       450\n",
      "           3       1.00      0.99      1.00       280\n",
      "           4       0.99      1.00      1.00       418\n",
      "           5       0.99      0.99      0.99       364\n",
      "           6       1.00      0.98      0.99        59\n",
      "           7       1.00      1.00      1.00       278\n",
      "           8       1.00      0.99      0.99       301\n",
      "           9       1.00      1.00      1.00       268\n",
      "          10       0.99      1.00      0.99       370\n",
      "          11       1.00      1.00      1.00       236\n",
      "          12       1.00      1.00      1.00       450\n",
      "          13       1.00      1.00      1.00       452\n",
      "          14       1.00      1.00      1.00       162\n",
      "          15       1.00      1.00      1.00       120\n",
      "          16       1.00      1.00      1.00        90\n",
      "          17       0.99      1.00      1.00       219\n",
      "          18       1.00      0.98      0.99       231\n",
      "          19       1.00      1.00      1.00        43\n",
      "          20       0.99      0.97      0.98        78\n",
      "          21       0.98      1.00      0.99        63\n",
      "          22       1.00      1.00      1.00        86\n",
      "          23       1.00      0.99      1.00       109\n",
      "          24       1.00      1.00      1.00        59\n",
      "          25       1.00      1.00      1.00       298\n",
      "          26       0.95      1.00      0.98       122\n",
      "          27       1.00      1.00      1.00        47\n",
      "          28       1.00      0.98      0.99        99\n",
      "          29       0.97      1.00      0.98        59\n",
      "          30       1.00      0.99      0.99        95\n",
      "          31       0.99      1.00      1.00       160\n",
      "          32       1.00      1.00      1.00        41\n",
      "          33       1.00      1.00      1.00       138\n",
      "          34       1.00      1.00      1.00        88\n",
      "          35       1.00      1.00      1.00       224\n",
      "          36       1.00      0.99      0.99        80\n",
      "          37       1.00      1.00      1.00        47\n",
      "          38       1.00      1.00      1.00       418\n",
      "          39       1.00      1.00      1.00        58\n",
      "          40       0.97      1.00      0.98        60\n",
      "          41       1.00      1.00      1.00        47\n",
      "          42       1.00      1.00      1.00        41\n",
      "\n",
      "    accuracy                           1.00      7842\n",
      "   macro avg       1.00      1.00      1.00      7842\n",
      "weighted avg       1.00      1.00      1.00      7842\n",
      "\n"
     ]
    }
   ],
   "source": [
    "print(classification_report(y_true = y_test, y_pred = y_predd))"
   ]
  },
  {
   "cell_type": "code",
   "execution_count": 45,
   "id": "e2628a03",
   "metadata": {},
   "outputs": [],
   "source": [
    "list_label = {'Gioi han 20':0, 'Gioi han 30':1, 'Gioi han 50':2,\n",
    "                        'Gioi han 60':3, 'Gioi han 70':4, 'Gioi han 80':5,\n",
    "                        'Het gioi han toc do 80':6, 'Gioi han 100':7, 'Gioi han 120':8,\n",
    "                        'Cam vuot nhau':9, 'Cam o to tai vuot':10, 'giao nhau vơi duong khong uu tien':11,\n",
    "                        'Canh bao':12, 'Giao nhau voi duong uu tien':13, 'Dung lai':14,\n",
    "                        'Duong cam':15, 'Cam oto tai':16, 'Cam di nguoc chieu':17,\n",
    "                        'Cảnh Báo':18, 'Re trai':19, 'Re phai':20,\n",
    "                        'Gấp khúc':21, 'Go ghe':22, 'Lật Xe':23,\n",
    "                        'huong hep ben trai':24, 'Dang thi cong':25,\n",
    "                        'Den giao thong':26, 'Nguoi sang duong':27,\n",
    "                         'Co tre nho':28, 'Xe dap':29, 'Tuyet':30,\n",
    "                         'Dong vat':31, 'Het cam':32, 'Duoc re phai':33,\n",
    "                         'Duoc re trai':34, 'Duoc di thang':35, 'Duoc di thang va re phai':36,\n",
    "                         'Duoc di thang va re trai':37, 'Di xien xuong':38, 'Xien xuong trai':39,\n",
    "                         'Vong xuyen':40, 'Duoc vuot':41, 'Duoc oto tai vuot':42}"
   ]
  },
  {
   "cell_type": "code",
   "execution_count": 71,
   "id": "109fd7b7",
   "metadata": {},
   "outputs": [
    {
     "name": "stdout",
     "output_type": "stream",
     "text": [
      "1/1 [==============================] - 0s 43ms/step\n",
      "38\n"
     ]
    }
   ],
   "source": [
    "image = Image.open('./datasets/Test/00005.png')\n",
    "image = image.resize([30, 30])\n",
    "image = np.array(image)\n",
    "pred = np.argmax(model.predict(image.reshape(1,30,30,3)))\n",
    "print(pred)"
   ]
  },
  {
   "cell_type": "code",
   "execution_count": 72,
   "id": "9152f5f4",
   "metadata": {},
   "outputs": [
    {
     "name": "stdout",
     "output_type": "stream",
     "text": [
      "Di xien xuong\n"
     ]
    },
    {
     "data": {
      "image/png": "[encoded data removed]",
      "text/plain": [
       "<Figure size 640x480 with 1 Axes>"
      ]
     },
     "metadata": {},
     "output_type": "display_data"
    }
   ],
   "source": [
    "plt.imshow(image)\n",
    "for key, value in list_label.items():\n",
    "    if pred == value:\n",
    "        print(key)"
   ]
  },
  {
   "cell_type": "code",
   "execution_count": 86,
   "id": "cc59d534",
   "metadata": {},
   "outputs": [],
   "source": [
    "def tim_hieu_bien_bao(path):\n",
    "    image = cv2.imread(path)\n",
    "    image = cv2.resize(image, (30,30))\n",
    "    image = np.array(image, dtype='float32') / 255\n",
    "    pred = np.argmax(model.predict(image.reshape(1,30,30,3))).flatten()\n",
    "    plt.imshow(image)\n",
    "    for key, value in list_label.items():\n",
    "            if pred == value:\n",
    "                print(key)"
   ]
  },
  {
   "cell_type": "code",
   "execution_count": 87,
   "id": "7d2e568d",
   "metadata": {},
   "outputs": [
    {
     "name": "stdout",
     "output_type": "stream",
     "text": [
      "1/1 [==============================] - 0s 30ms/step\n",
      "Di xien xuong\n"
     ]
    },
    {
     "data": {
      "image/png": "[encoded data removed]",
      "text/plain": [
       "<Figure size 640x480 with 1 Axes>"
      ]
     },
     "metadata": {},
     "output_type": "display_data"
    }
   ],
   "source": [
    "tim_hieu_bien_bao('./datasets/Test/00005.png')"
   ]
  },
  {
   "cell_type": "code",
   "execution_count": 79,
   "id": "9d65f374",
   "metadata": {},
   "outputs": [
    {
     "ename": "ValueError",
     "evalue": "cannot reshape array of size 3168 into shape (1,30,30,3)",
     "output_type": "error",
     "traceback": [
      "\u001b[1;31m---------------------------------------------------------------------------\u001b[0m",
      "\u001b[1;31mValueError\u001b[0m                                Traceback (most recent call last)",
      "\u001b[1;32m~\\AppData\\Local\\Temp\\ipykernel_1116\\3596142290.py\u001b[0m in \u001b[0;36m<module>\u001b[1;34m\u001b[0m\n\u001b[1;32m----> 1\u001b[1;33m \u001b[0mtim_hieu_bien_so\u001b[0m\u001b[1;33m(\u001b[0m\u001b[1;34m'./datasets/Test/00007.png'\u001b[0m\u001b[1;33m)\u001b[0m\u001b[1;33m\u001b[0m\u001b[1;33m\u001b[0m\u001b[0m\n\u001b[0m",
      "\u001b[1;32m~\\AppData\\Local\\Temp\\ipykernel_1116\\2101409239.py\u001b[0m in \u001b[0;36mtim_hieu_bien_so\u001b[1;34m(path)\u001b[0m\n\u001b[0;32m      2\u001b[0m     \u001b[0mimage\u001b[0m \u001b[1;33m=\u001b[0m \u001b[0mcv2\u001b[0m\u001b[1;33m.\u001b[0m\u001b[0mimread\u001b[0m\u001b[1;33m(\u001b[0m\u001b[0mpath\u001b[0m\u001b[1;33m)\u001b[0m\u001b[1;33m\u001b[0m\u001b[1;33m\u001b[0m\u001b[0m\n\u001b[0;32m      3\u001b[0m     \u001b[0mimage\u001b[0m \u001b[1;33m=\u001b[0m \u001b[0mnp\u001b[0m\u001b[1;33m.\u001b[0m\u001b[0marray\u001b[0m\u001b[1;33m(\u001b[0m\u001b[0mimage\u001b[0m\u001b[1;33m)\u001b[0m\u001b[1;33m\u001b[0m\u001b[1;33m\u001b[0m\u001b[0m\n\u001b[1;32m----> 4\u001b[1;33m     \u001b[0mpred\u001b[0m \u001b[1;33m=\u001b[0m \u001b[0mnp\u001b[0m\u001b[1;33m.\u001b[0m\u001b[0margmax\u001b[0m\u001b[1;33m(\u001b[0m\u001b[0mmodel\u001b[0m\u001b[1;33m.\u001b[0m\u001b[0mpredict\u001b[0m\u001b[1;33m(\u001b[0m\u001b[0mimage\u001b[0m\u001b[1;33m.\u001b[0m\u001b[0mreshape\u001b[0m\u001b[1;33m(\u001b[0m\u001b[1;36m1\u001b[0m\u001b[1;33m,\u001b[0m\u001b[1;36m30\u001b[0m\u001b[1;33m,\u001b[0m\u001b[1;36m30\u001b[0m\u001b[1;33m,\u001b[0m\u001b[1;36m3\u001b[0m\u001b[1;33m)\u001b[0m\u001b[1;33m)\u001b[0m\u001b[1;33m)\u001b[0m\u001b[1;33m\u001b[0m\u001b[1;33m\u001b[0m\u001b[0m\n\u001b[0m\u001b[0;32m      5\u001b[0m     \u001b[0mplt\u001b[0m\u001b[1;33m.\u001b[0m\u001b[0mimshow\u001b[0m\u001b[1;33m(\u001b[0m\u001b[0mimage\u001b[0m\u001b[1;33m)\u001b[0m\u001b[1;33m\u001b[0m\u001b[1;33m\u001b[0m\u001b[0m\n\u001b[0;32m      6\u001b[0m     \u001b[1;32mfor\u001b[0m \u001b[0mkey\u001b[0m\u001b[1;33m,\u001b[0m \u001b[0mvalue\u001b[0m \u001b[1;32min\u001b[0m \u001b[0mlist_label\u001b[0m\u001b[1;33m.\u001b[0m\u001b[0mitems\u001b[0m\u001b[1;33m(\u001b[0m\u001b[1;33m)\u001b[0m\u001b[1;33m:\u001b[0m\u001b[1;33m\u001b[0m\u001b[1;33m\u001b[0m\u001b[0m\n",
      "\u001b[1;31mValueError\u001b[0m: cannot reshape array of size 3168 into shape (1,30,30,3)"
     ]
    }
   ],
   "source": [
    "tim_hieu_bien_so('./datasets/Test/00007.png')"
   ]
  },
  {
   "cell_type": "code",
   "execution_count": 55,
   "id": "50337cc2",
   "metadata": {},
   "outputs": [],
   "source": [
    "model.save('./classification_traffic_signs.h5')\n"
   ]
  },
  {
   "cell_type": "code",
   "execution_count": 56,
   "id": "12b489b3",
   "metadata": {},
   "outputs": [],
   "source": [
    "# history_cnn = cnn.fit(X_train_scaled, y_train_new, batch_size=32, epochs = 15,\n",
    "#                               validation_data=(X_test_scaled, y_test_new))"
   ]
  },
  {
   "cell_type": "code",
   "execution_count": 57,
   "id": "1a063192",
   "metadata": {},
   "outputs": [],
   "source": [
    "# y_pred_cnn = cnn.predict(X_test_scaled)"
   ]
  },
  {
   "cell_type": "code",
   "execution_count": 58,
   "id": "3063af3a",
   "metadata": {},
   "outputs": [],
   "source": [
    "# y_predd_cnn = []\n",
    "# for i in y_pred_cnn:\n",
    "#     y_predd_cnn.append(np.argmax(i))"
   ]
  },
  {
   "cell_type": "code",
   "execution_count": 67,
   "id": "cbbdf9d0",
   "metadata": {},
   "outputs": [],
   "source": [
    "# print(classification_report(y_true = y_test, y_pred = y_predd_cnn))"
   ]
  },
  {
   "cell_type": "code",
   "execution_count": 88,
   "id": "964e0fa1",
   "metadata": {},
   "outputs": [],
   "source": [
    "import tkinter as tk"
   ]
  },
  {
   "cell_type": "code",
   "execution_count": 94,
   "id": "f3bb11d6",
   "metadata": {},
   "outputs": [],
   "source": [
    "root = tk.Tk()\n",
    "root.title(\"Tim Hieu Bien Bao Giao Thong\")\n",
    "btn=tk.Button(root, text=\"chon anh\")\n",
    "btn.pack()\n",
    "tk.mainloop()"
   ]
  },
  {
   "cell_type": "code",
   "execution_count": 10,
   "id": "957f4df3",
   "metadata": {},
   "outputs": [],
   "source": [
    "import tkinter as tk\n",
    "from tkinter import filedialog\n",
    "from tkinter import *\n",
    "from PIL import ImageTk, Image\n",
    "import numpy as np\n",
    "from keras.models import load_model\n",
    "import cv2\n",
    "model = load_model('classification_traffic_signs.h5')\n",
    "\n",
    "list_label = {'Gioi han 20':0, 'Gioi han 30':1, 'Gioi han 50':2,\n",
    "                        'Gioi han 60':3, 'Gioi han 70':4, 'Gioi han 80':5,\n",
    "                        'Het gioi han toc do 80':6, 'Gioi han 100':7, 'Gioi han 120':8,\n",
    "                        'Cam vuot nhau':9, 'Cam o to tai vuot':10, 'giao nhau vơi duong khong uu tien':11,\n",
    "                        'Canh bao':12, 'Giao nhau voi duong uu tien':13, 'Dung lai':14,\n",
    "                        'Duong cam':15, 'Cam oto tai':16, 'Cam di nguoc chieu':17,\n",
    "                        'Chú ý':18, 'Phải Re trai':19, 'Phải Re phai':20,\n",
    "                        'ngoan ngheo':21, 'Go ghe':22, 'Lat xe':23,\n",
    "                        'huong hep ben trai':24, 'Dang thi cong':25,\n",
    "                        'Den giao thong':26, 'Nguoi sang duong':27,\n",
    "                         'Co tre nho':28, 'Xe dap':29, 'Tuyet':30,\n",
    "                         'Dong vat':31, 'Het cam':32, 'Duoc re phai':33,\n",
    "                         'Duoc re trai':34, 'Duoc di thang':35, 'Duoc di thang va re phai':36,\n",
    "                         'Duoc di thang va re trai':37, 'Di xien xuong':38, 'Xien xuong trai':39,\n",
    "                         'Vong xuyen':40, 'Duoc vuot':41, 'Duoc oto tai vuot':42}\n",
    "\n",
    "app=tk.Tk()\n",
    "app.geometry('800x600')\n",
    "app.title('Classification_traffic_signs')\n",
    "app.configure(background='#CCC')\n",
    "label=Label(app,background='#CCC')\n",
    "sign_image = Label(app)\n",
    "\n",
    "def classification(file_path):\n",
    "    global label_packed\n",
    "    image = cv2.imread(file_path)\n",
    "    image = cv2.resize(image, (30,30))\n",
    "    image = np.array(image, dtype='float32') / 255\n",
    "    pred = np.argmax(model.predict(image.reshape(1,30,30,3))).flatten()\n",
    "    for key, value in list_label.items():\n",
    "            if pred == value:\n",
    "                label.configure(foreground='white', text=key, font=('arial', 20, 'bold')) \n",
    "    \n",
    "def show_classification_button(file_path):\n",
    "    btn_classification=Button(app,text=\"Xem Tên Biển Báo\", command=lambda: classification(file_path),padx=10,pady=5)\n",
    "    btn_classification.configure(background='#000', foreground='white', font=('arial',10,'bold'))\n",
    "    btn_classification.place(relx=0.79,rely=0.46)\n",
    "    \n",
    "def upload_image():\n",
    "    try:\n",
    "        file_path = filedialog.askopenfilename()\n",
    "        img = cv2.imread(file_path)\n",
    "#        img = Image.open(file_path)\n",
    "        img = Image.fromarray(img)\n",
    "        img_resize = img.resize((200,200))\n",
    "        img_resize = ImageTk.PhotoImage(img_resize)\n",
    "        sign_image.configure(image=img_resize)\n",
    "        sign_image.image=img_resize\n",
    "        show_classification_button(file_path)\n",
    "    except:\n",
    "        pass\n",
    "\n",
    "upload=Button(app,text=\"Chọn Biển Báo\",command=upload_image, padx=10, pady=5)\n",
    "upload.configure(background='green', foreground='white', font=('arial',10,'bold'), relief=\"solid\")\n",
    "\n",
    "upload.pack(side=BOTTOM,pady=50)\n",
    "sign_image.pack(side=BOTTOM,expand=True)\n",
    "label.pack(side=BOTTOM,expand=True)\n",
    "heading = Label(app, text=\"Phan loai bien bao\",pady=20, font=('arial',20,'bold'))\n",
    "\n",
    "heading.configure(background='#ccc')\n",
    "heading.pack()\n",
    "app.mainloop()"
   ]
  },
  {
   "cell_type": "code",
   "execution_count": null,
   "id": "64b0327d",
   "metadata": {},
   "outputs": [],
   "source": []
  },
  {
   "cell_type": "code",
   "execution_count": null,
   "id": "14405435",
   "metadata": {},
   "outputs": [],
   "source": []
  },
  {
   "cell_type": "code",
   "execution_count": null,
   "id": "8089005c",
   "metadata": {},
   "outputs": [],
   "source": []
  }
 ],
 "metadata": {
  "kernelspec": {
   "display_name": "Python 3 (ipykernel)",
   "language": "python",
   "name": "python3"
  },
  "language_info": {
   "codemirror_mode": {
    "name": "ipython",
    "version": 3
   },
   "file_extension": ".py",
   "mimetype": "text/x-python",
   "name": "python",
   "nbconvert_exporter": "python",
   "pygments_lexer": "ipython3",
   "version": "3.9.13"
  }
 },
 "nbformat": 4,
 "nbformat_minor": 5
}
